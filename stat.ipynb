{
 "cells": [
  {
   "cell_type": "code",
   "execution_count": 23,
   "metadata": {},
   "outputs": [],
   "source": [
    "import numpy as np\n",
    "import pandas as pd\n",
    "import cv2\n",
    "from PIL import Image\n",
    "import os"
   ]
  },
  {
   "cell_type": "code",
   "execution_count": 24,
   "metadata": {},
   "outputs": [],
   "source": [
    "class_ls = ['aeroplane','bicycle','boat','bus','car', 'chair','diningtable','motorbike','sofa','train']\n",
    "class_to_index = {'aeroplane': 0,'bicycle': 1,'boat': 2,'bus': 3,'car': 4,'chair': 5,'diningtable': 6,'motorbike': 7,'sofa': 8,'train': 9}\n",
    "val_nuisances = ['shape', 'pose', 'texture', 'context', 'weather','occlusion','iid']\n",
    "\n",
    "txt_dir = \"./data/phase-1-pose-npz/train\"\n",
    "img_dir = \"./data/phase-1-pose-npz/train/processed/images\"\n",
    "ann_dir = \"/home/data1/lkd/ECCV2022_OOD/pose/data/phase-1-pose-npz/train/processed/annotations\""
   ]
  },
  {
   "cell_type": "code",
   "execution_count": 29,
   "metadata": {},
   "outputs": [],
   "source": [
    "theta_list=  []\n",
    "elevation_list =  []\n",
    "distance_list =  []\n",
    "azimuth_list =  []\n",
    "for ann_file in os.listdir(ann_dir):\n",
    "    data = np.load(ann_dir+'/'+ann_file,allow_pickle=True)\n",
    "    theta_list.append(float(data['theta']))\n",
    "    elevation_list.append(float(data['elevation']))\n",
    "    distance_list.append(float(data['distance']))\n",
    "    azimuth_list.append(float(data['azimuth']))"
   ]
  },
  {
   "cell_type": "code",
   "execution_count": 32,
   "metadata": {},
   "outputs": [
    {
     "name": "stdout",
     "output_type": "stream",
     "text": [
      "0.00023595481126638268\n",
      "0.11575889073578172\n",
      "6.526204760750839\n",
      "2.708895440086749\n"
     ]
    }
   ],
   "source": [
    "print(np.mean(theta_list))\n",
    "print(np.mean(elevation_list))\n",
    "print(np.mean(distance_list))\n",
    "print(np.mean(azimuth_list))"
   ]
  },
  {
   "cell_type": "code",
   "execution_count": 37,
   "metadata": {},
   "outputs": [
    {
     "name": "stdout",
     "output_type": "stream",
     "text": [
      "0.13191307591839532\n",
      "0.1993462425530023\n",
      "5.318982103694582\n",
      "2.5564238212543766\n"
     ]
    }
   ],
   "source": [
    "print(np.sqrt(np.mean(np.square(theta_list-np.mean(theta_list)))))\n",
    "print(np.sqrt(np.mean(np.square(elevation_list-np.mean(elevation_list)))))\n",
    "print(np.sqrt(np.mean(np.square(distance_list-np.mean(distance_list)))))\n",
    "print(np.sqrt(np.mean(np.square(azimuth_list-np.mean(azimuth_list)))))"
   ]
  },
  {
   "cell_type": "code",
   "execution_count": 52,
   "metadata": {},
   "outputs": [],
   "source": [
    "df = pd.DataFrame()\n",
    "\n",
    "df = pd.concat([df,pd.DataFrame(['img','snake',123,13,52,63]).T])"
   ]
  },
  {
   "cell_type": "code",
   "execution_count": 53,
   "metadata": {},
   "outputs": [
    {
     "data": {
      "text/html": [
       "<div>\n",
       "<style scoped>\n",
       "    .dataframe tbody tr th:only-of-type {\n",
       "        vertical-align: middle;\n",
       "    }\n",
       "\n",
       "    .dataframe tbody tr th {\n",
       "        vertical-align: top;\n",
       "    }\n",
       "\n",
       "    .dataframe thead th {\n",
       "        text-align: right;\n",
       "    }\n",
       "</style>\n",
       "<table border=\"1\" class=\"dataframe\">\n",
       "  <thead>\n",
       "    <tr style=\"text-align: right;\">\n",
       "      <th></th>\n",
       "      <th>0</th>\n",
       "      <th>1</th>\n",
       "      <th>2</th>\n",
       "      <th>3</th>\n",
       "      <th>4</th>\n",
       "      <th>5</th>\n",
       "    </tr>\n",
       "  </thead>\n",
       "  <tbody>\n",
       "    <tr>\n",
       "      <th>0</th>\n",
       "      <td>img</td>\n",
       "      <td>snake</td>\n",
       "      <td>123</td>\n",
       "      <td>13</td>\n",
       "      <td>52</td>\n",
       "      <td>63</td>\n",
       "    </tr>\n",
       "  </tbody>\n",
       "</table>\n",
       "</div>"
      ],
      "text/plain": [
       "     0      1    2   3   4   5\n",
       "0  img  snake  123  13  52  63"
      ]
     },
     "execution_count": 53,
     "metadata": {},
     "output_type": "execute_result"
    }
   ],
   "source": [
    "df"
   ]
  },
  {
   "cell_type": "code",
   "execution_count": 56,
   "metadata": {},
   "outputs": [],
   "source": [
    "path = \"./data/OOD-CV-phase2/phase2-pose/annotations/00000_aeroplane.npz\"\n",
    "data = np.load(path,allow_pickle=True)"
   ]
  },
  {
   "cell_type": "code",
   "execution_count": 59,
   "metadata": {},
   "outputs": [
    {
     "data": {
      "text/plain": [
       "['name',\n",
       " 'box',\n",
       " 'box_ori',\n",
       " 'box_obj',\n",
       " 'cropped_kp_list',\n",
       " 'visible',\n",
       " 'theta',\n",
       " 'focal',\n",
       " 'azimuth',\n",
       " 'elevation',\n",
       " 'viewport',\n",
       " 'distance',\n",
       " 'principal',\n",
       " 'cad_index',\n",
       " 'bbox']"
      ]
     },
     "execution_count": 59,
     "metadata": {},
     "output_type": "execute_result"
    }
   ],
   "source": [
    "data.files"
   ]
  },
  {
   "cell_type": "code",
   "execution_count": 55,
   "metadata": {},
   "outputs": [
    {
     "data": {
      "text/html": [
       "<div>\n",
       "<style scoped>\n",
       "    .dataframe tbody tr th:only-of-type {\n",
       "        vertical-align: middle;\n",
       "    }\n",
       "\n",
       "    .dataframe tbody tr th {\n",
       "        vertical-align: top;\n",
       "    }\n",
       "\n",
       "    .dataframe thead th {\n",
       "        text-align: right;\n",
       "    }\n",
       "</style>\n",
       "<table border=\"1\" class=\"dataframe\">\n",
       "  <thead>\n",
       "    <tr style=\"text-align: right;\">\n",
       "      <th></th>\n",
       "      <th>imgs</th>\n",
       "      <th>labels</th>\n",
       "      <th>azimuth</th>\n",
       "      <th>elevation</th>\n",
       "      <th>theta</th>\n",
       "      <th>distance</th>\n",
       "    </tr>\n",
       "  </thead>\n",
       "  <tbody>\n",
       "    <tr>\n",
       "      <th>0</th>\n",
       "      <td>img</td>\n",
       "      <td>snake</td>\n",
       "      <td>123</td>\n",
       "      <td>13</td>\n",
       "      <td>52</td>\n",
       "      <td>63</td>\n",
       "    </tr>\n",
       "  </tbody>\n",
       "</table>\n",
       "</div>"
      ],
      "text/plain": [
       "  imgs labels azimuth elevation theta distance\n",
       "0  img  snake     123        13    52       63"
      ]
     },
     "execution_count": 55,
     "metadata": {},
     "output_type": "execute_result"
    }
   ],
   "source": [
    "df"
   ]
  },
  {
   "cell_type": "code",
   "execution_count": null,
   "metadata": {},
   "outputs": [],
   "source": []
  }
 ],
 "metadata": {
  "kernelspec": {
   "display_name": "Python 3.8.5 ('lkd22')",
   "language": "python",
   "name": "python3"
  },
  "language_info": {
   "codemirror_mode": {
    "name": "ipython",
    "version": 3
   },
   "file_extension": ".py",
   "mimetype": "text/x-python",
   "name": "python",
   "nbconvert_exporter": "python",
   "pygments_lexer": "ipython3",
   "version": "3.8.5"
  },
  "orig_nbformat": 4,
  "vscode": {
   "interpreter": {
    "hash": "db61d63db2f74d76b6b380db49779de52de834e45f2a4c164e259a0a73cc0a92"
   }
  }
 },
 "nbformat": 4,
 "nbformat_minor": 2
}
