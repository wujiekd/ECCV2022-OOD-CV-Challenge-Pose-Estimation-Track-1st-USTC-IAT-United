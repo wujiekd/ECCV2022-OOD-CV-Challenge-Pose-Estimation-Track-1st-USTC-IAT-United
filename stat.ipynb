{
 "cells": [
  {
   "cell_type": "code",
   "execution_count": 1,
   "metadata": {},
   "outputs": [],
   "source": [
    "import numpy as np\n",
    "import pandas as pd\n",
    "import cv2\n",
    "from PIL import Image\n",
    "import os"
   ]
  },
  {
   "cell_type": "code",
   "execution_count": 2,
   "metadata": {},
   "outputs": [],
   "source": [
    "class_ls = ['aeroplane','bicycle','boat','bus','car', 'chair','diningtable','motorbike','sofa','train']\n",
    "class_to_index = {'aeroplane': 0,'bicycle': 1,'boat': 2,'bus': 3,'car': 4,'chair': 5,'diningtable': 6,'motorbike': 7,'sofa': 8,'train': 9}\n",
    "val_nuisances = ['shape', 'pose', 'texture', 'context', 'weather','occlusion','iid']\n",
    "\n",
    "txt_dir = \"./data/phase-1-pose-npz/train\"\n",
    "img_dir = \"./data/phase-1-pose-npz/train/processed/images\"\n",
    "ann_dir = \"/home/data1/lkd/ECCV2022_OOD/pose/data/phase-1-pose-npz/train/processed/annotations\""
   ]
  },
  {
   "cell_type": "code",
   "execution_count": 3,
   "metadata": {},
   "outputs": [],
   "source": [
    "theta_list=  []\n",
    "elevation_list =  []\n",
    "distance_list =  []\n",
    "azimuth_list =  []\n",
    "for ann_file in os.listdir(ann_dir):\n",
    "    data = np.load(ann_dir+'/'+ann_file,allow_pickle=True)\n",
    "    theta_list.append(float(data['theta']))\n",
    "    elevation_list.append(float(data['elevation']))\n",
    "    distance_list.append(float(data['distance']))\n",
    "    azimuth_list.append(float(data['azimuth']))"
   ]
  },
  {
   "cell_type": "code",
   "execution_count": 4,
   "metadata": {},
   "outputs": [
    {
     "name": "stdout",
     "output_type": "stream",
     "text": [
      "0.00023595481126638268\n",
      "0.11575889073578172\n",
      "6.526204760750839\n",
      "2.708895440086749\n"
     ]
    }
   ],
   "source": [
    "print(np.mean(theta_list))\n",
    "print(np.mean(elevation_list))\n",
    "print(np.mean(distance_list))\n",
    "print(np.mean(azimuth_list))"
   ]
  },
  {
   "cell_type": "code",
   "execution_count": 5,
   "metadata": {},
   "outputs": [
    {
     "name": "stdout",
     "output_type": "stream",
     "text": [
      "0.13191307591839532\n",
      "0.1993462425530023\n",
      "5.318982103694582\n",
      "2.5564238212543766\n"
     ]
    }
   ],
   "source": [
    "print(np.sqrt(np.mean(np.square(theta_list-np.mean(theta_list)))))\n",
    "print(np.sqrt(np.mean(np.square(elevation_list-np.mean(elevation_list)))))\n",
    "print(np.sqrt(np.mean(np.square(distance_list-np.mean(distance_list)))))\n",
    "print(np.sqrt(np.mean(np.square(azimuth_list-np.mean(azimuth_list)))))"
   ]
  }
 ],
 "metadata": {
  "kernelspec": {
   "display_name": "Python 3.8.5 ('lkd22')",
   "language": "python",
   "name": "python3"
  },
  "language_info": {
   "codemirror_mode": {
    "name": "ipython",
    "version": 3
   },
   "file_extension": ".py",
   "mimetype": "text/x-python",
   "name": "python",
   "nbconvert_exporter": "python",
   "pygments_lexer": "ipython3",
   "version": "3.8.5"
  },
  "orig_nbformat": 4,
  "vscode": {
   "interpreter": {
    "hash": "db61d63db2f74d76b6b380db49779de52de834e45f2a4c164e259a0a73cc0a92"
   }
  }
 },
 "nbformat": 4,
 "nbformat_minor": 2
}
